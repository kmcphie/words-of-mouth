{
 "cells": [
  {
   "cell_type": "markdown",
   "metadata": {},
   "source": [
    "# NEWSAPI.ORG\n",
    "We are getting the top news through NewsAPI.org."
   ]
  },
  {
   "cell_type": "code",
   "execution_count": null,
   "metadata": {},
   "outputs": [],
   "source": [
    "API_Key = \"36475236ef064840a80b1d981724c482\""
   ]
  },
  {
   "cell_type": "code",
   "execution_count": null,
   "metadata": {},
   "outputs": [
    {
     "ename": "",
     "evalue": "",
     "output_type": "error",
     "traceback": [
      "\u001b[1;31mRunning cells with 'Python 3.13.2' requires the ipykernel package.\n",
      "\u001b[1;31mRun the following command to install 'ipykernel' into the Python environment. \n",
      "\u001b[1;31mCommand: '/opt/homebrew/bin/python3 -m pip install ipykernel -U --user --force-reinstall'"
     ]
    }
   ],
   "source": [
    "import requests\n",
    "import json\n",
    "\n",
    "def fetch_top_headlines(api_key, country='us', category=None, query=None):\n",
    "    \"\"\"\n",
    "    Fetch top headlines from NewsAPI.org\n",
    "    \n",
    "    Parameters:\n",
    "    - api_key: Your NewsAPI.org API key\n",
    "    - country: 2-letter ISO 3166-1 country code (default: 'us')\n",
    "    - category: Category of news (optional)\n",
    "    - query: Keywords or phrases to search for (optional)\n",
    "    \n",
    "    Returns:\n",
    "    - JSON response containing articles\n",
    "    \"\"\"\n",
    "    base_url = \"https://newsapi.org/v2/top-headlines\"\n",
    "    \n",
    "    # Build parameters\n",
    "    params = {\n",
    "        \"apiKey\": api_key,\n",
    "        \"country\": country\n",
    "    }\n",
    "    \n",
    "    if category:\n",
    "        params[\"category\"] = category\n",
    "    \n",
    "    if query:\n",
    "        params[\"q\"] = query\n",
    "    \n",
    "    # Make the request\n",
    "    response = requests.get(base_url, params=params)\n",
    "    \n",
    "    # Check if request was successful\n",
    "    if response.status_code == 200:\n",
    "        return response.json()\n",
    "    else:\n",
    "        print(f\"Error: {response.status_code}\")\n",
    "        print(response.text)\n",
    "        return None\n",
    "\n",
    "def display_headlines(articles):\n",
    "    \"\"\"Display headlines and descriptions from articles\"\"\"\n",
    "    for i, article in enumerate(articles, 1):\n",
    "        print(f\"\\n{i}. {article['title']}\")\n",
    "        print(f\"Source: {article['source']['name']}\")\n",
    "        print(f\"Published: {article['publishedAt']}\")\n",
    "        print(f\"Description: {article['description']}\")\n",
    "        print(f\"URL: {article['url']}\")\n",
    "\n",
    "if __name__ == \"__main__\":\n",
    "    # Replace with your actual API key\n",
    "    API_KEY = \"36475236ef064840a80b1d981724c482\"\n",
    "    \n",
    "    # Example: Get top headlines from the US in the technology category\n",
    "    response = fetch_top_headlines(API_KEY, country=\"us\", category=\"technology\")\n",
    "    \n",
    "    if response and response.get(\"status\") == \"ok\":\n",
    "        articles = response.get(\"articles\", [])\n",
    "        print(f\"Found {len(articles)} articles\")\n",
    "        display_headlines(articles)\n",
    "    else:\n",
    "        print(\"Failed to fetch news\")"
   ]
  }
 ],
 "metadata": {
  "kernelspec": {
   "display_name": "Python 3",
   "language": "python",
   "name": "python3"
  },
  "language_info": {
   "name": "python",
   "version": "3.13.2"
  }
 },
 "nbformat": 4,
 "nbformat_minor": 2
}
